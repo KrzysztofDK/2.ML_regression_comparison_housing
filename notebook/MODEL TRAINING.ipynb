{
 "cells": [
  {
   "cell_type": "markdown",
   "id": "c56244bd",
   "metadata": {},
   "source": [
    "## Import libraries"
   ]
  },
  {
   "cell_type": "code",
   "execution_count": 1,
   "id": "1600cc29",
   "metadata": {},
   "outputs": [],
   "source": [
    "import pandas as pd\n",
    "import numpy as np\n",
    "import joblib\n",
    "from sklearn.preprocessing import OneHotEncoder\n",
    "from sklearn.model_selection import train_test_split, GridSearchCV\n",
    "from sklearn.pipeline import make_pipeline\n",
    "from sklearn.preprocessing import StandardScaler\n",
    "from sklearn.linear_model import LinearRegression\n",
    "from sklearn.ensemble import RandomForestRegressor\n",
    "from xgboost import XGBRegressor\n",
    "from sklearn.svm import SVR\n",
    "from sklearn.metrics import mean_absolute_error, mean_squared_error, r2_score\n",
    "from sklearn.feature_selection import RFE\n",
    "from sklearn.decomposition import PCA"
   ]
  },
  {
   "cell_type": "markdown",
   "id": "5504b5ed",
   "metadata": {},
   "source": [
    "## Loading data"
   ]
  },
  {
   "cell_type": "markdown",
   "id": "1cd436da",
   "metadata": {},
   "source": [
    "##### CSV file loading"
   ]
  },
  {
   "cell_type": "code",
   "execution_count": 2,
   "id": "b2d058ea",
   "metadata": {},
   "outputs": [
    {
     "data": {
      "text/html": [
       "<div>\n",
       "<style scoped>\n",
       "    .dataframe tbody tr th:only-of-type {\n",
       "        vertical-align: middle;\n",
       "    }\n",
       "\n",
       "    .dataframe tbody tr th {\n",
       "        vertical-align: top;\n",
       "    }\n",
       "\n",
       "    .dataframe thead th {\n",
       "        text-align: right;\n",
       "    }\n",
       "</style>\n",
       "<table border=\"1\" class=\"dataframe\">\n",
       "  <thead>\n",
       "    <tr style=\"text-align: right;\">\n",
       "      <th></th>\n",
       "      <th>price</th>\n",
       "      <th>area</th>\n",
       "      <th>bedrooms</th>\n",
       "      <th>bathrooms</th>\n",
       "      <th>floors</th>\n",
       "      <th>mainroad</th>\n",
       "      <th>guestroom</th>\n",
       "      <th>basement</th>\n",
       "      <th>hotwaterheating</th>\n",
       "      <th>airconditioning</th>\n",
       "      <th>parking</th>\n",
       "      <th>prefneighbourhood</th>\n",
       "      <th>furnishingstatus</th>\n",
       "    </tr>\n",
       "  </thead>\n",
       "  <tbody>\n",
       "    <tr>\n",
       "      <th>0</th>\n",
       "      <td>13300000</td>\n",
       "      <td>7420</td>\n",
       "      <td>4</td>\n",
       "      <td>2</td>\n",
       "      <td>3</td>\n",
       "      <td>1</td>\n",
       "      <td>0</td>\n",
       "      <td>0</td>\n",
       "      <td>0</td>\n",
       "      <td>1</td>\n",
       "      <td>2</td>\n",
       "      <td>1</td>\n",
       "      <td>furnished</td>\n",
       "    </tr>\n",
       "    <tr>\n",
       "      <th>1</th>\n",
       "      <td>12250000</td>\n",
       "      <td>8960</td>\n",
       "      <td>4</td>\n",
       "      <td>4</td>\n",
       "      <td>4</td>\n",
       "      <td>1</td>\n",
       "      <td>0</td>\n",
       "      <td>0</td>\n",
       "      <td>0</td>\n",
       "      <td>1</td>\n",
       "      <td>3</td>\n",
       "      <td>0</td>\n",
       "      <td>furnished</td>\n",
       "    </tr>\n",
       "    <tr>\n",
       "      <th>2</th>\n",
       "      <td>12250000</td>\n",
       "      <td>9960</td>\n",
       "      <td>3</td>\n",
       "      <td>2</td>\n",
       "      <td>2</td>\n",
       "      <td>1</td>\n",
       "      <td>0</td>\n",
       "      <td>1</td>\n",
       "      <td>0</td>\n",
       "      <td>0</td>\n",
       "      <td>2</td>\n",
       "      <td>1</td>\n",
       "      <td>semi-furnished</td>\n",
       "    </tr>\n",
       "    <tr>\n",
       "      <th>3</th>\n",
       "      <td>12215000</td>\n",
       "      <td>7500</td>\n",
       "      <td>4</td>\n",
       "      <td>2</td>\n",
       "      <td>2</td>\n",
       "      <td>1</td>\n",
       "      <td>0</td>\n",
       "      <td>1</td>\n",
       "      <td>0</td>\n",
       "      <td>1</td>\n",
       "      <td>3</td>\n",
       "      <td>1</td>\n",
       "      <td>furnished</td>\n",
       "    </tr>\n",
       "    <tr>\n",
       "      <th>4</th>\n",
       "      <td>11410000</td>\n",
       "      <td>7420</td>\n",
       "      <td>4</td>\n",
       "      <td>1</td>\n",
       "      <td>2</td>\n",
       "      <td>1</td>\n",
       "      <td>1</td>\n",
       "      <td>1</td>\n",
       "      <td>0</td>\n",
       "      <td>1</td>\n",
       "      <td>2</td>\n",
       "      <td>0</td>\n",
       "      <td>furnished</td>\n",
       "    </tr>\n",
       "  </tbody>\n",
       "</table>\n",
       "</div>"
      ],
      "text/plain": [
       "      price  area  bedrooms  bathrooms  floors  mainroad  guestroom  basement  \\\n",
       "0  13300000  7420         4          2       3         1          0         0   \n",
       "1  12250000  8960         4          4       4         1          0         0   \n",
       "2  12250000  9960         3          2       2         1          0         1   \n",
       "3  12215000  7500         4          2       2         1          0         1   \n",
       "4  11410000  7420         4          1       2         1          1         1   \n",
       "\n",
       "   hotwaterheating  airconditioning  parking  prefneighbourhood  \\\n",
       "0                0                1        2                  1   \n",
       "1                0                1        3                  0   \n",
       "2                0                0        2                  1   \n",
       "3                0                1        3                  1   \n",
       "4                0                1        2                  0   \n",
       "\n",
       "  furnishingstatus  \n",
       "0        furnished  \n",
       "1        furnished  \n",
       "2   semi-furnished  \n",
       "3        furnished  \n",
       "4        furnished  "
      ]
     },
     "execution_count": 2,
     "metadata": {},
     "output_type": "execute_result"
    }
   ],
   "source": [
    "df = pd.read_csv('data/Housing_basic_cleaning.csv')\n",
    "pd.set_option('display.max_columns', None)\n",
    "pd.set_option('display.max_rows', None)\n",
    "df.head()"
   ]
  },
  {
   "cell_type": "code",
   "execution_count": 3,
   "id": "a7550763",
   "metadata": {},
   "outputs": [
    {
     "data": {
      "text/plain": [
       "(545, 13)"
      ]
     },
     "execution_count": 3,
     "metadata": {},
     "output_type": "execute_result"
    }
   ],
   "source": [
    "df.shape"
   ]
  },
  {
   "cell_type": "markdown",
   "id": "4cd7b2cd",
   "metadata": {},
   "source": [
    "## Feature engineering"
   ]
  },
  {
   "cell_type": "markdown",
   "id": "119da120",
   "metadata": {},
   "source": [
    "##### 1.Splitting the data to prevent data leakage."
   ]
  },
  {
   "cell_type": "code",
   "execution_count": 4,
   "id": "65bf2ef0",
   "metadata": {},
   "outputs": [],
   "source": [
    "df['log_price'] = np.log10(df['price'])\n",
    "\n",
    "X = df.drop(columns=['price', 'log_price'])\n",
    "y = df['log_price']\n",
    "\n",
    "X_train, X_test, y_train, y_test = train_test_split(X, y, test_size=0.2, random_state=42)"
   ]
  },
  {
   "cell_type": "markdown",
   "id": "3c341261",
   "metadata": {},
   "source": [
    "##### 2.Fixing columns data types. Encoding categorical variables."
   ]
  },
  {
   "cell_type": "code",
   "execution_count": 5,
   "id": "10f9fd64",
   "metadata": {},
   "outputs": [
    {
     "data": {
      "text/plain": [
       "price                  int64\n",
       "area                   int64\n",
       "bedrooms               int64\n",
       "bathrooms              int64\n",
       "floors                 int64\n",
       "mainroad               int64\n",
       "guestroom              int64\n",
       "basement               int64\n",
       "hotwaterheating        int64\n",
       "airconditioning        int64\n",
       "parking                int64\n",
       "prefneighbourhood      int64\n",
       "furnishingstatus      object\n",
       "log_price            float64\n",
       "dtype: object"
      ]
     },
     "execution_count": 5,
     "metadata": {},
     "output_type": "execute_result"
    }
   ],
   "source": [
    "df.dtypes"
   ]
  },
  {
   "cell_type": "code",
   "execution_count": 6,
   "id": "1afa60be",
   "metadata": {},
   "outputs": [
    {
     "name": "stdout",
     "output_type": "stream",
     "text": [
      "[1 0]\n",
      "[0 1]\n",
      "[0 1]\n",
      "[0 1]\n",
      "[1 0]\n",
      "[1 0]\n",
      "['furnished' 'semi-furnished' 'unfurnished']\n"
     ]
    }
   ],
   "source": [
    "columns = [5, 6, 7, 8, 9, 11, 12]\n",
    "for col in columns:\n",
    "    values = df.iloc[:, col].unique()\n",
    "    print(values)"
   ]
  },
  {
   "cell_type": "code",
   "execution_count": 7,
   "id": "23392d83",
   "metadata": {},
   "outputs": [
    {
     "data": {
      "text/html": [
       "<div>\n",
       "<style scoped>\n",
       "    .dataframe tbody tr th:only-of-type {\n",
       "        vertical-align: middle;\n",
       "    }\n",
       "\n",
       "    .dataframe tbody tr th {\n",
       "        vertical-align: top;\n",
       "    }\n",
       "\n",
       "    .dataframe thead th {\n",
       "        text-align: right;\n",
       "    }\n",
       "</style>\n",
       "<table border=\"1\" class=\"dataframe\">\n",
       "  <thead>\n",
       "    <tr style=\"text-align: right;\">\n",
       "      <th></th>\n",
       "      <th>area</th>\n",
       "      <th>bedrooms</th>\n",
       "      <th>bathrooms</th>\n",
       "      <th>floors</th>\n",
       "      <th>mainroad</th>\n",
       "      <th>guestroom</th>\n",
       "      <th>basement</th>\n",
       "      <th>hotwaterheating</th>\n",
       "      <th>airconditioning</th>\n",
       "      <th>parking</th>\n",
       "      <th>prefneighbourhood</th>\n",
       "      <th>furnishingstatus_furnished</th>\n",
       "      <th>furnishingstatus_semi-furnished</th>\n",
       "      <th>furnishingstatus_unfurnished</th>\n",
       "    </tr>\n",
       "  </thead>\n",
       "  <tbody>\n",
       "    <tr>\n",
       "      <th>46</th>\n",
       "      <td>6000</td>\n",
       "      <td>3</td>\n",
       "      <td>2</td>\n",
       "      <td>4</td>\n",
       "      <td>1</td>\n",
       "      <td>0</td>\n",
       "      <td>0</td>\n",
       "      <td>0</td>\n",
       "      <td>1</td>\n",
       "      <td>1</td>\n",
       "      <td>0</td>\n",
       "      <td>1</td>\n",
       "      <td>0</td>\n",
       "      <td>0</td>\n",
       "    </tr>\n",
       "    <tr>\n",
       "      <th>93</th>\n",
       "      <td>7200</td>\n",
       "      <td>3</td>\n",
       "      <td>2</td>\n",
       "      <td>1</td>\n",
       "      <td>1</td>\n",
       "      <td>0</td>\n",
       "      <td>1</td>\n",
       "      <td>0</td>\n",
       "      <td>1</td>\n",
       "      <td>3</td>\n",
       "      <td>0</td>\n",
       "      <td>0</td>\n",
       "      <td>1</td>\n",
       "      <td>0</td>\n",
       "    </tr>\n",
       "    <tr>\n",
       "      <th>335</th>\n",
       "      <td>3816</td>\n",
       "      <td>2</td>\n",
       "      <td>1</td>\n",
       "      <td>1</td>\n",
       "      <td>1</td>\n",
       "      <td>0</td>\n",
       "      <td>1</td>\n",
       "      <td>0</td>\n",
       "      <td>1</td>\n",
       "      <td>2</td>\n",
       "      <td>0</td>\n",
       "      <td>1</td>\n",
       "      <td>0</td>\n",
       "      <td>0</td>\n",
       "    </tr>\n",
       "    <tr>\n",
       "      <th>412</th>\n",
       "      <td>2610</td>\n",
       "      <td>3</td>\n",
       "      <td>1</td>\n",
       "      <td>2</td>\n",
       "      <td>1</td>\n",
       "      <td>0</td>\n",
       "      <td>1</td>\n",
       "      <td>0</td>\n",
       "      <td>0</td>\n",
       "      <td>0</td>\n",
       "      <td>1</td>\n",
       "      <td>0</td>\n",
       "      <td>0</td>\n",
       "      <td>1</td>\n",
       "    </tr>\n",
       "    <tr>\n",
       "      <th>471</th>\n",
       "      <td>3750</td>\n",
       "      <td>3</td>\n",
       "      <td>1</td>\n",
       "      <td>2</td>\n",
       "      <td>1</td>\n",
       "      <td>0</td>\n",
       "      <td>0</td>\n",
       "      <td>0</td>\n",
       "      <td>0</td>\n",
       "      <td>0</td>\n",
       "      <td>0</td>\n",
       "      <td>0</td>\n",
       "      <td>0</td>\n",
       "      <td>1</td>\n",
       "    </tr>\n",
       "  </tbody>\n",
       "</table>\n",
       "</div>"
      ],
      "text/plain": [
       "     area  bedrooms  bathrooms  floors  mainroad  guestroom  basement  \\\n",
       "46   6000         3          2       4         1          0         0   \n",
       "93   7200         3          2       1         1          0         1   \n",
       "335  3816         2          1       1         1          0         1   \n",
       "412  2610         3          1       2         1          0         1   \n",
       "471  3750         3          1       2         1          0         0   \n",
       "\n",
       "     hotwaterheating  airconditioning  parking  prefneighbourhood  \\\n",
       "46                 0                1        1                  0   \n",
       "93                 0                1        3                  0   \n",
       "335                0                1        2                  0   \n",
       "412                0                0        0                  1   \n",
       "471                0                0        0                  0   \n",
       "\n",
       "     furnishingstatus_furnished  furnishingstatus_semi-furnished  \\\n",
       "46                            1                                0   \n",
       "93                            0                                1   \n",
       "335                           1                                0   \n",
       "412                           0                                0   \n",
       "471                           0                                0   \n",
       "\n",
       "     furnishingstatus_unfurnished  \n",
       "46                              0  \n",
       "93                              0  \n",
       "335                             0  \n",
       "412                             1  \n",
       "471                             1  "
      ]
     },
     "execution_count": 7,
     "metadata": {},
     "output_type": "execute_result"
    }
   ],
   "source": [
    "encoder = OneHotEncoder(sparse_output=False, dtype=int)\n",
    "encoded = encoder.fit_transform(X_train[['furnishingstatus']])\n",
    "encoded_df = pd.DataFrame(encoded, columns=encoder.get_feature_names_out(['furnishingstatus']), index=X_train.index)\n",
    "X_train = pd.concat([X_train.drop('furnishingstatus', axis=1), encoded_df], axis=1)\n",
    "\n",
    "encoded = encoder.transform(X_test[['furnishingstatus']])\n",
    "encoded_df = pd.DataFrame(encoded, columns=encoder.get_feature_names_out(['furnishingstatus']), index=X_test.index)\n",
    "X_test = pd.concat([X_test.drop('furnishingstatus', axis=1), encoded_df], axis=1)\n",
    "\n",
    "X_train.head()"
   ]
  },
  {
   "cell_type": "code",
   "execution_count": 8,
   "id": "863fcd5e",
   "metadata": {},
   "outputs": [
    {
     "data": {
      "text/html": [
       "<div>\n",
       "<style scoped>\n",
       "    .dataframe tbody tr th:only-of-type {\n",
       "        vertical-align: middle;\n",
       "    }\n",
       "\n",
       "    .dataframe tbody tr th {\n",
       "        vertical-align: top;\n",
       "    }\n",
       "\n",
       "    .dataframe thead th {\n",
       "        text-align: right;\n",
       "    }\n",
       "</style>\n",
       "<table border=\"1\" class=\"dataframe\">\n",
       "  <thead>\n",
       "    <tr style=\"text-align: right;\">\n",
       "      <th></th>\n",
       "      <th>area</th>\n",
       "      <th>bedrooms</th>\n",
       "      <th>bathrooms</th>\n",
       "      <th>floors</th>\n",
       "      <th>mainroad</th>\n",
       "      <th>guestroom</th>\n",
       "      <th>basement</th>\n",
       "      <th>hotwaterheating</th>\n",
       "      <th>airconditioning</th>\n",
       "      <th>parking</th>\n",
       "      <th>prefneighbourhood</th>\n",
       "      <th>furnished</th>\n",
       "      <th>semifurnished</th>\n",
       "      <th>unfurnished</th>\n",
       "    </tr>\n",
       "  </thead>\n",
       "  <tbody>\n",
       "    <tr>\n",
       "      <th>316</th>\n",
       "      <td>5900</td>\n",
       "      <td>4</td>\n",
       "      <td>2</td>\n",
       "      <td>2</td>\n",
       "      <td>0</td>\n",
       "      <td>0</td>\n",
       "      <td>1</td>\n",
       "      <td>0</td>\n",
       "      <td>0</td>\n",
       "      <td>1</td>\n",
       "      <td>0</td>\n",
       "      <td>0</td>\n",
       "      <td>0</td>\n",
       "      <td>1</td>\n",
       "    </tr>\n",
       "  </tbody>\n",
       "</table>\n",
       "</div>"
      ],
      "text/plain": [
       "     area  bedrooms  bathrooms  floors  mainroad  guestroom  basement  \\\n",
       "316  5900         4          2       2         0          0         1   \n",
       "\n",
       "     hotwaterheating  airconditioning  parking  prefneighbourhood  furnished  \\\n",
       "316                0                0        1                  0          0   \n",
       "\n",
       "     semifurnished  unfurnished  \n",
       "316              0            1  "
      ]
     },
     "execution_count": 8,
     "metadata": {},
     "output_type": "execute_result"
    }
   ],
   "source": [
    "for dataset in [X_train, X_test]:\n",
    "    dataset.rename(columns={'furnishingstatus_furnished': 'furnished', 'furnishingstatus_semi-furnished': 'semifurnished', 'furnishingstatus_unfurnished': 'unfurnished'}, inplace=True)\n",
    "\n",
    "X_test.head(1)"
   ]
  },
  {
   "cell_type": "code",
   "execution_count": 9,
   "id": "59b45653",
   "metadata": {},
   "outputs": [
    {
     "data": {
      "text/plain": [
       "area                 int64\n",
       "bedrooms             int64\n",
       "bathrooms            int64\n",
       "floors               int64\n",
       "mainroad             int64\n",
       "guestroom            int64\n",
       "basement             int64\n",
       "hotwaterheating      int64\n",
       "airconditioning      int64\n",
       "parking              int64\n",
       "prefneighbourhood    int64\n",
       "furnished            int32\n",
       "semifurnished        int32\n",
       "unfurnished          int32\n",
       "dtype: object"
      ]
     },
     "execution_count": 9,
     "metadata": {},
     "output_type": "execute_result"
    }
   ],
   "source": [
    "X_train.dtypes"
   ]
  },
  {
   "cell_type": "markdown",
   "id": "9bd39d29",
   "metadata": {},
   "source": [
    "##### SUMMARY: *All categorical values are encoded.*"
   ]
  },
  {
   "cell_type": "markdown",
   "id": "177f05f3",
   "metadata": {},
   "source": [
    "## Creating and training basics models. Metrics"
   ]
  },
  {
   "cell_type": "markdown",
   "id": "c9f58a6f",
   "metadata": {},
   "source": [
    "Models Creation"
   ]
  },
  {
   "cell_type": "code",
   "execution_count": 10,
   "id": "ab62a4da",
   "metadata": {},
   "outputs": [],
   "source": [
    "models = {\n",
    "    'Linear Regression': make_pipeline(StandardScaler(), LinearRegression()),\n",
    "    'Random Forest': RandomForestRegressor(random_state=42),\n",
    "    'XGBoost': XGBRegressor(random_state=42),\n",
    "    'SVR': make_pipeline(StandardScaler(), SVR())\n",
    "}"
   ]
  },
  {
   "cell_type": "markdown",
   "id": "8c5ec7ca",
   "metadata": {},
   "source": [
    "##### Models Training and Metrics"
   ]
  },
  {
   "cell_type": "code",
   "execution_count": 11,
   "id": "5cd0fc43",
   "metadata": {},
   "outputs": [
    {
     "name": "stdout",
     "output_type": "stream",
     "text": [
      "\n",
      "Linear Regression:\n",
      "MAE:  958540\n",
      "RMSE: 1313848\n",
      "R2:   0.66\n",
      "\n",
      "Random Forest:\n",
      "MAE:  1021741\n",
      "RMSE: 1427804\n",
      "R2:   0.60\n",
      "\n",
      "XGBoost:\n",
      "MAE:  1010367\n",
      "RMSE: 1409496\n",
      "R2:   0.61\n",
      "\n",
      "SVR:\n",
      "MAE:  1042196\n",
      "RMSE: 1434809\n",
      "R2:   0.59\n"
     ]
    }
   ],
   "source": [
    "def evaluate_model(model, X_test, y_test_log, name):\n",
    "    y_pred_log = model.predict(X_test)\n",
    "    y_pred_real = 10 ** y_pred_log\n",
    "    y_test_real = 10 ** y_test_log\n",
    "    print(f'\\n{name}:')\n",
    "    print('MAE:  {:0.0f}'.format(mean_absolute_error(y_test_real, y_pred_real)))\n",
    "    print('RMSE: {:0.0f}'.format(np.sqrt(mean_squared_error(y_test_real, y_pred_real))))\n",
    "    print('R2:   {:0.2f}'.format(r2_score(y_test_real, y_pred_real)))\n",
    "\n",
    "for name, model in models.items():\n",
    "    model.fit(X_train, y_train)\n",
    "    joblib.dump(model, f\"data\\{name.lower().replace(' ', '_')}.pkl\")\n",
    "    evaluate_model(model, X_test, y_test, name)"
   ]
  },
  {
   "cell_type": "markdown",
   "id": "fc3333bb",
   "metadata": {},
   "source": [
    "## Feature Selection/Extraction and New Models"
   ]
  },
  {
   "cell_type": "markdown",
   "id": "b81889b6",
   "metadata": {},
   "source": [
    "##### Models Creation"
   ]
  },
  {
   "cell_type": "code",
   "execution_count": 12,
   "id": "eea9f1c9",
   "metadata": {},
   "outputs": [],
   "source": [
    "n_features_to_select = 10\n",
    "rfe_lr = RFE(estimator=LinearRegression(), n_features_to_select=n_features_to_select)\n",
    "rfe_rf = RFE(estimator=RandomForestRegressor(random_state=42), n_features_to_select=n_features_to_select)\n",
    "rfe_xgb = RFE(estimator=XGBRegressor(random_state=42), n_features_to_select=n_features_to_select)\n",
    "pca_svr = PCA(n_components=n_features_to_select)\n",
    "\n",
    "models_fs = {\n",
    "    'Linear Regression RFE': make_pipeline(StandardScaler(), rfe_lr, LinearRegression()),\n",
    "    'Random Forest RFE': make_pipeline(rfe_rf, RandomForestRegressor(random_state=42)),\n",
    "    'XGBoost RFE': make_pipeline(rfe_xgb, XGBRegressor(random_state=42)),\n",
    "    'SVR PCA': make_pipeline(StandardScaler(), pca_svr, SVR())\n",
    "}"
   ]
  },
  {
   "cell_type": "markdown",
   "id": "6caab858",
   "metadata": {},
   "source": [
    "##### Models Training and Metrics"
   ]
  },
  {
   "cell_type": "code",
   "execution_count": 13,
   "id": "c3ec899a",
   "metadata": {},
   "outputs": [
    {
     "name": "stdout",
     "output_type": "stream",
     "text": [
      "\n",
      "Linear Regression RFE:\n",
      "MAE:  995063\n",
      "RMSE: 1338047\n",
      "R2:   0.65\n",
      "\n",
      "Random Forest RFE:\n",
      "MAE:  1046051\n",
      "RMSE: 1450190\n",
      "R2:   0.58\n",
      "\n",
      "XGBoost RFE:\n",
      "MAE:  1106911\n",
      "RMSE: 1511326\n",
      "R2:   0.55\n",
      "\n",
      "SVR PCA:\n",
      "MAE:  1044139\n",
      "RMSE: 1418707\n",
      "R2:   0.60\n"
     ]
    }
   ],
   "source": [
    "for name, model in models_fs.items():\n",
    "    model.fit(X_train, y_train)\n",
    "    joblib.dump(model, f\"data\\{name.lower().replace(' ', '_')}.pkl\")\n",
    "    evaluate_model(model, X_test, y_test, name)"
   ]
  },
  {
   "cell_type": "markdown",
   "id": "ab01869e",
   "metadata": {},
   "source": [
    "## Hyperparameter Tuning and New Models"
   ]
  },
  {
   "cell_type": "markdown",
   "id": "e323865f",
   "metadata": {},
   "source": [
    "##### Models and Parameters Creation"
   ]
  },
  {
   "cell_type": "code",
   "execution_count": 14,
   "id": "9414749f",
   "metadata": {},
   "outputs": [],
   "source": [
    "pipe_lr = make_pipeline(StandardScaler(), RFE(estimator=LinearRegression()), LinearRegression())\n",
    "pipe_rf = make_pipeline(RFE(estimator=RandomForestRegressor(random_state=42)), RandomForestRegressor(random_state=42))\n",
    "pipe_xgb = make_pipeline(RFE(estimator=XGBRegressor(random_state=42)), XGBRegressor(random_state=42))\n",
    "pipe_svr = make_pipeline(StandardScaler(), PCA(), SVR())\n",
    "\n",
    "param_grid_lr = {\n",
    "    'rfe__n_features_to_select': [5, 10, 14],\n",
    "}\n",
    "\n",
    "param_grid_rf = {\n",
    "    'rfe__n_features_to_select': [5, 10, 14],\n",
    "    'randomforestregressor__n_estimators': [50, 100],\n",
    "    'randomforestregressor__max_depth': [None, 10, 20]\n",
    "}\n",
    "\n",
    "param_grid_xgb = {\n",
    "    'rfe__n_features_to_select': [5, 10, 14],\n",
    "    'xgbregressor__n_estimators': [50, 100],\n",
    "    'xgbregressor__max_depth': [3, 6],\n",
    "    'xgbregressor__learning_rate': [0.01, 0.1]\n",
    "}\n",
    "\n",
    "param_grid_svr = {\n",
    "    'pca__n_components': [5, 10, 14],\n",
    "    'svr__C': [0.1, 1, 10],\n",
    "    'svr__gamma': ['scale', 'auto']\n",
    "}\n",
    "\n",
    "models_params = {\n",
    "    'Linear Regression RFE CV': (pipe_lr, param_grid_lr),\n",
    "    'Random Forest RFE CV': (pipe_rf, param_grid_rf),\n",
    "    'XGBoost RFE CV': (pipe_xgb, param_grid_xgb),\n",
    "    'SVR PCA CV': (pipe_svr, param_grid_svr)\n",
    "}"
   ]
  },
  {
   "cell_type": "markdown",
   "id": "1a6f9c8c",
   "metadata": {},
   "source": [
    "##### Model Training and Metrics"
   ]
  },
  {
   "cell_type": "code",
   "execution_count": 15,
   "id": "d4028f60",
   "metadata": {},
   "outputs": [
    {
     "name": "stdout",
     "output_type": "stream",
     "text": [
      "\n",
      "Best params for Linear Regression RFE CV: {'rfe__n_features_to_select': 10}\n",
      "\n",
      "Linear Regression RFE CV:\n",
      "MAE:  995063\n",
      "RMSE: 1338047\n",
      "R2:   0.65\n",
      "\n",
      "Best params for Random Forest RFE CV: {'randomforestregressor__max_depth': 10, 'randomforestregressor__n_estimators': 100, 'rfe__n_features_to_select': 14}\n",
      "\n",
      "Random Forest RFE CV:\n",
      "MAE:  1020933\n",
      "RMSE: 1423617\n",
      "R2:   0.60\n",
      "\n",
      "Best params for XGBoost RFE CV: {'rfe__n_features_to_select': 10, 'xgbregressor__learning_rate': 0.1, 'xgbregressor__max_depth': 3, 'xgbregressor__n_estimators': 50}\n",
      "\n",
      "XGBoost RFE CV:\n",
      "MAE:  1035784\n",
      "RMSE: 1404774\n",
      "R2:   0.61\n",
      "\n",
      "Best params for SVR PCA CV: {'pca__n_components': 5, 'svr__C': 0.1, 'svr__gamma': 'scale'}\n",
      "\n",
      "SVR PCA CV:\n",
      "MAE:  1010598\n",
      "RMSE: 1447952\n",
      "R2:   0.59\n"
     ]
    }
   ],
   "source": [
    "best_models = {}\n",
    "\n",
    "for name, (pipeline, param_grid) in models_params.items():\n",
    "    grid = GridSearchCV(pipeline, param_grid=param_grid, cv=5, n_jobs=-1, verbose=0, scoring='neg_mean_absolute_error')\n",
    "    grid.fit(X_train, y_train)\n",
    "\n",
    "    print(f\"\\nBest params for {name}: {grid.best_params_}\")\n",
    "    best_model = grid.best_estimator_\n",
    "\n",
    "    joblib.dump(best_model, f\"data\\{name.lower().replace(' ', '_')}.pkl\")\n",
    "    evaluate_model(best_model, X_test, y_test, name)\n",
    "    best_models[name] = best_model"
   ]
  },
  {
   "cell_type": "markdown",
   "id": "31fc3985",
   "metadata": {},
   "source": [
    "##### SUMMARY:*The use of feature selection/extraction and hyperparameter tuning does not significantly affect the performance of selected models and their metrics. This may be due to too few features or their impact on price (e.g., the exact location, building age, etc. are missing). The Linear Regression model will work best, although with still unsatisfactory efficiency.*"
   ]
  },
  {
   "cell_type": "markdown",
   "id": "99c9c327",
   "metadata": {},
   "source": [
    "## Imput Prediction"
   ]
  },
  {
   "cell_type": "code",
   "execution_count": 16,
   "id": "350ec1b5",
   "metadata": {},
   "outputs": [
    {
     "name": "stdout",
     "output_type": "stream",
     "text": [
      "Predicted price: 4583540.08\n"
     ]
    }
   ],
   "source": [
    "sample = {\n",
    "    'area': 3000,\n",
    "    'bedrooms': 3,\n",
    "    'bathrooms': 2,\n",
    "    'floors': 2,\n",
    "    'mainroad': 1,\n",
    "    'guestroom': 0,\n",
    "    'basement': 0,\n",
    "    'hotwaterheating': 0,\n",
    "    'airconditioning': 1,\n",
    "    'parking': 1,\n",
    "    'prefneighbourhood': 0,\n",
    "    'furnished': 0,\n",
    "    'semifurnished': 0,\n",
    "    'unfurnished': 1\n",
    "}\n",
    "\n",
    "def predict_price_from_file(model_path: str, input_data_dictionary: dict):\n",
    "    model = joblib.load(model_path)        \n",
    "    df = pd.DataFrame([input_data_dictionary])    \n",
    "    try:\n",
    "        log_price = model.predict(df)[0]\n",
    "        return round(10 ** log_price, 2)\n",
    "    except Exception as e:\n",
    "        raise RuntimeError(f'Prediction failed: {e}')\n",
    "\n",
    "pred_sample = predict_price_from_file(model_path='data\\linear_regression_rfe_cv.pkl', input_data_dictionary=sample)\n",
    "print(f'Predicted price: {pred_sample}')"
   ]
  }
 ],
 "metadata": {
  "kernelspec": {
   "display_name": ".venv (3.10.11)",
   "language": "python",
   "name": "python3"
  },
  "language_info": {
   "codemirror_mode": {
    "name": "ipython",
    "version": 3
   },
   "file_extension": ".py",
   "mimetype": "text/x-python",
   "name": "python",
   "nbconvert_exporter": "python",
   "pygments_lexer": "ipython3",
   "version": "3.10.11"
  }
 },
 "nbformat": 4,
 "nbformat_minor": 5
}
